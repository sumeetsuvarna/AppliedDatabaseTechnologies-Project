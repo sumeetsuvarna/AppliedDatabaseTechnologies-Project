{
  "nbformat": 4,
  "nbformat_minor": 0,
  "metadata": {
    "colab": {
      "provenance": []
    },
    "kernelspec": {
      "name": "python3",
      "display_name": "Python 3"
    },
    "language_info": {
      "name": "python"
    }
  },
  "cells": [
    {
      "cell_type": "code",
      "execution_count": null,
      "metadata": {
        "id": "80yN4byxvaG2"
      },
      "outputs": [],
      "source": [
        "import sqlite3\n",
        "import pandas as pd"
      ]
    },
    {
      "cell_type": "code",
      "source": [
        "conn = sqlite3.connect('ADT_Project.db')\n",
        "c = conn.cursor()"
      ],
      "metadata": {
        "id": "ucZ_4asYvv8V"
      },
      "execution_count": null,
      "outputs": []
    },
    {
      "cell_type": "code",
      "source": [
        "read_jobposts_flat_table = pd.read_csv('data_job_posts.csv')"
      ],
      "metadata": {
        "id": "ma3S1P57v2pE"
      },
      "execution_count": null,
      "outputs": []
    },
    {
      "cell_type": "code",
      "source": [
        "read_jobposts_flat_table.to_sql('jobposts_flat_table', conn, if_exists='append', index = False)"
      ],
      "metadata": {
        "colab": {
          "base_uri": "https://localhost:8080/"
        },
        "id": "4Ri3DBt51s9n",
        "outputId": "fe59c721-b6bc-4d92-8f5d-97fb2e1e1e62"
      },
      "execution_count": null,
      "outputs": [
        {
          "output_type": "execute_result",
          "data": {
            "text/plain": [
              "18998"
            ]
          },
          "metadata": {},
          "execution_count": 13
        }
      ]
    },
    {
      "cell_type": "code",
      "source": [
        "for row in c.execute('''\n",
        "select * from jobposts_flat_table limit 5\n",
        "'''):\n",
        "    print(row)"
      ],
      "metadata": {
        "id": "xjah9Z_HBPbu",
        "colab": {
          "base_uri": "https://localhost:8080/"
        },
        "outputId": "2716fa2e-395d-4393-bb8f-73cce6549520"
      },
      "execution_count": null,
      "outputs": [
        {
          "output_type": "stream",
          "name": "stdout",
          "text": [
            "(\"AMERIA Investment Consulting Company\\r\\nJOB TITLE:  Chief Financial Officer\\r\\nPOSITION LOCATION: Yerevan, Armenia\\r\\nJOB DESCRIPTION:   AMERIA Investment Consulting Company is seeking a\\r\\nChief Financial Officer. This position manages the company's fiscal and\\r\\nadministrative functions, provides highly responsible and technically\\r\\ncomplex staff assistance to the Executive Director. The work performed\\r\\nrequires a high level of technical proficiency in financial management\\r\\nand investment management, as well as management, supervisory, and\\r\\nadministrative skills.\\r\\nJOB RESPONSIBILITIES:  \\r\\n- Supervises financial management and administrative staff, including\\r\\nassigning responsibilities, reviewing employees' work processes and\\r\\nproducts, counseling employees, giving performance evaluations, and\\r\\nrecommending disciplinary action;\\r\\n- Serves as member of management team participating in both strategic\\r\\nand operational planning for the company;\\r\\n- Directs and oversees the company's financial management activities,\\r\\nincluding establishing and monitoring internal controls, managing cash\\r\\nand investments, and managing the investment portfolio in collaboration\\r\\nwith the Investment team leader. This includes, but is not limited to,\\r\\nevaluation of investment risk, concentration risk, fund deployment\\r\\nlevels, adequacy of loss and liquidity reserves Assists investment team\\r\\nin development of proper documentation and internal systems;\\r\\n- Directs and oversees the annual budgeting process, including\\r\\ndeveloping projections for financial planning, and preparing budgets;\\r\\n- Prepares external and internal financial management reports, such as\\r\\naudited financial statements, tax returns, and reports for the board of\\r\\ndirectors and company staff;\\r\\n- Develops, implements, and maintains efficient and effective accounting\\r\\nsystems and controls to ensure compliance with national and\\r\\ninternational accounting standards and principles, sufficiency of fund\\r\\naccounting, and comprehensiveness of data for reporting and compliance\\r\\nrequirements;\\r\\n- Ensures contract compliance, including interpreting and monitoring\\r\\ncontracts with clients, submitting required reports, and monitoring\\r\\ncovenants and other contract terms;\\r\\n- Oversees the design, implementation and maintenance of computer-based\\r\\ninformation system. Oversees records retention (both manual and\\r\\ncomputer-based) and file maintenance activities;\\r\\n- Serves as company's risk manager, including evaluating loss exposure\\r\\nand obtaining insurance as appropriate;\\r\\n- Manages other administrative operations, such as facilities\\r\\nmanagement, payroll administration, office operations, and\\r\\nadministrative support;\\r\\n- Monitors corporate compliance with by-laws and articles of\\r\\nincorporation regarding corporate registration and reporting of\\r\\nfundraising operations.\\r\\nREQUIRED QUALIFICATIONS:  To perform this job successfully, an\\r\\nindividual must be able to perform each essential duty satisfactorily.\\r\\nThe requirements listed below are representative of the knowledge,\\r\\nskill, and/or ability required.\\r\\nKnowledge of:\\r\\n- Generally accepted accounting principles;\\r\\n- Local accounting standards and legislation;\\r\\n- State reporting requirements pertaining to accounting;\\r\\n- Principles and practices of financial management and budgeting;\\r\\n- Principles and practices of financial systems design and analysis;\\r\\n- Principles and practices of contract management, records management,\\r\\nand risk management;\\r\\n- Principles and practices of management and supervision;\\r\\n- Principles and practices of information systems management.\\r\\nAbility to:\\r\\n- Apply sound fiscal and administrative practices to the company's\\r\\nactivities;\\r\\n- Plan, organize and supervise the work of subordinate employees,\\r\\nincluding training them, assigning and evaluating their work, and\\r\\nproviding job performance feedback;\\r\\n- Critically analyze fiscal and administrative policies, practices,\\r\\nprocedures, and systems, and recommend and implement changes as needed;\\r\\n- Gather and synthesize financial information from a variety of sources\\r\\nand present it to a variety of audiences with differing financial\\r\\nmanagement and analysis expertise;\\r\\n- Prepare detailed, comprehensive financial reports, including\\r\\nexplanatory text;\\r\\n- Operate IBM-compatible personal computer, including word processing,\\r\\nspreadsheet, and database software applications;\\r\\n- Operate specialized software applications that support the financial\\r\\nmanagement and budgeting functions.\\r\\nQualifications:\\r\\n- A minimum of 5-7 years Accounting/ Corporate Finance/ Banking\\r\\nexperience, including a role as a CFO;\\r\\n- Excellent finance and accounting technical skills coupled with a\\r\\ndemonstrated knowledge of all key financial functions in an consulting\\r\\ncompany context - accounting, finance, control, treasury, reserving, and\\r\\nreporting;\\r\\n- Strong financial planning and analytical skills and experience and the\\r\\nability to work closely with and support the CEO and other executives in\\r\\nstrategic development and implementation;\\r\\n- Excellent leadership, management and supervisory track record of\\r\\nattracting, selecting, developing, rewarding and retaining high-caliber,\\r\\naccounting and finance executive and teams who achieve business goals;\\r\\n- An undergraduate degree in finance, business, or other related\\r\\ndiscipline is required. A CPA, CFA, ACCA or other financial\\r\\ncertification is highly preferred, as is a Masters degree in Business\\r\\nAdministration, Accounting or Finance;\\r\\n- Fluency in English, Armenian and Russian with outstanding writing\\r\\nskills;\\r\\n- Excellent analytical, communication, teamwork, interpersonal skills;\\r\\n- Need to be well organized and detail-oriented as well as goal/ result\\r\\ndriven and able to deal with complex issues.\\r\\nAPPLICATION PROCEDURES:  To apply for this position, please submit a\\r\\ncover letter and a resume addressing relevant qualifications and\\r\\nexperience and information on professional reference strictly to Tatevik\\r\\nHovhannisyan; Executive Assistant: fax: 374-1-546800 or e-mail:ameria@.... Tel: 374 (1) 524040; 524140. Only shortlisted\\r\\ncandidates will be notified for an interview.\\r\\nPlease clearly mention in your application letter that you learned of\\r\\nthis job opportunity through Career Center and mention the URL of its\\r\\nwebsite - www.careercenter.am, Thanks.\\r\\nAPPLICATION DEADLINE:   26 January 2004\\r\\n----------------------------------\\r\\nTo place a free posting for job or other career related opportunities in\\r\\nyour organization at careercenter.am website, e-mail us atmailbox@...\", '5-Jan-04', 'Chief Financial Officer', 'AMERIA Investment Consulting Company', None, None, None, None, None, None, 'Yerevan, Armenia', \"AMERIA Investment Consulting Company is seeking a\\r\\nChief Financial Officer. This position manages the company's fiscal and\\r\\nadministrative functions, provides highly responsible and technically\\r\\ncomplex staff assistance to the Executive Director. The work performed\\r\\nrequires a high level of technical proficiency in financial management\\r\\nand investment management, as well as management, supervisory, and\\r\\nadministrative skills.\", \"- Supervises financial management and administrative staff, including\\r\\nassigning responsibilities, reviewing employees' work processes and\\r\\nproducts, counseling employees, giving performance evaluations, and\\r\\nrecommending disciplinary action;\\r\\n- Serves as member of management team participating in both strategic\\r\\nand operational planning for the company;\\r\\n- Directs and oversees the company's financial management activities,\\r\\nincluding establishing and monitoring internal controls, managing cash\\r\\nand investments, and managing the investment portfolio in collaboration\\r\\nwith the Investment team leader. This includes, but is not limited to,\\r\\nevaluation of investment risk, concentration risk, fund deployment\\r\\nlevels, adequacy of loss and liquidity reserves Assists investment team\\r\\nin development of proper documentation and internal systems;\\r\\n- Directs and oversees the annual budgeting process, including\\r\\ndeveloping projections for financial planning, and preparing budgets;\\r\\n- Prepares external and internal financial management reports, such as\\r\\naudited financial statements, tax returns, and reports for the board of\\r\\ndirectors and company staff;\\r\\n- Develops, implements, and maintains efficient and effective accounting\\r\\nsystems and controls to ensure compliance with national and\\r\\ninternational accounting standards and principles, sufficiency of fund\\r\\naccounting, and comprehensiveness of data for reporting and compliance\\r\\nrequirements;\\r\\n- Ensures contract compliance, including interpreting and monitoring\\r\\ncontracts with clients, submitting required reports, and monitoring\\r\\ncovenants and other contract terms;\\r\\n- Oversees the design, implementation and maintenance of computer-based\\r\\ninformation system. Oversees records retention (both manual and\\r\\ncomputer-based) and file maintenance activities;\\r\\n- Serves as company's risk manager, including evaluating loss exposure\\r\\nand obtaining insurance as appropriate;\\r\\n- Manages other administrative operations, such as facilities\\r\\nmanagement, payroll administration, office operations, and\\r\\nadministrative support;\\r\\n- Monitors corporate compliance with by-laws and articles of\\r\\nincorporation regarding corporate registration and reporting of\\r\\nfundraising operations.\", \"To perform this job successfully, an\\r\\nindividual must be able to perform each essential duty satisfactorily.\\r\\nThe requirements listed below are representative of the knowledge,\\r\\nskill, and/or ability required.\\r\\nKnowledge of:\\r\\n- Generally accepted accounting principles;\\r\\n- Local accounting standards and legislation;\\r\\n- State reporting requirements pertaining to accounting;\\r\\n- Principles and practices of financial management and budgeting;\\r\\n- Principles and practices of financial systems design and analysis;\\r\\n- Principles and practices of contract management, records management,\\r\\nand risk management;\\r\\n- Principles and practices of management and supervision;\\r\\n- Principles and practices of information systems management.\\r\\nAbility to:\\r\\n- Apply sound fiscal and administrative practices to the company's\\r\\nactivities;\\r\\n- Plan, organize and supervise the work of subordinate employees,\\r\\nincluding training them, assigning and evaluating their work, and\\r\\nproviding job performance feedback;\\r\\n- Critically analyze fiscal and administrative policies, practices,\\r\\nprocedures, and systems, and recommend and implement changes as needed;\\r\\n- Gather and synthesize financial information from a variety of sources\\r\\nand present it to a variety of audiences with differing financial\\r\\nmanagement and analysis expertise;\\r\\n- Prepare detailed, comprehensive financial reports, including\\r\\nexplanatory text;\\r\\n- Operate IBM-compatible personal computer, including word processing,\\r\\nspreadsheet, and database software applications;\\r\\n- Operate specialized software applications that support the financial\\r\\nmanagement and budgeting functions.\\r\\nQualifications:\\r\\n- A minimum of 5-7 years Accounting/ Corporate Finance/ Banking\\r\\nexperience, including a role as a CFO;\\r\\n- Excellent finance and accounting technical skills coupled with a\\r\\ndemonstrated knowledge of all key financial functions in an consulting\\r\\ncompany context - accounting, finance, control, treasury, reserving, and\\r\\nreporting;\\r\\n- Strong financial planning and analytical skills and experience and the\\r\\nability to work closely with and support the CEO and other executives in\\r\\nstrategic development and implementation;\\r\\n- Excellent leadership, management and supervisory track record of\\r\\nattracting, selecting, developing, rewarding and retaining high-caliber,\\r\\naccounting and finance executive and teams who achieve business goals;\\r\\n- An undergraduate degree in finance, business, or other related\\r\\ndiscipline is required. A CPA, CFA, ACCA or other financial\\r\\ncertification is highly preferred, as is a Masters degree in Business\\r\\nAdministration, Accounting or Finance;\\r\\n- Fluency in English, Armenian and Russian with outstanding writing\\r\\nskills;\\r\\n- Excellent analytical, communication, teamwork, interpersonal skills;\\r\\n- Need to be well organized and detail-oriented as well as goal/ result\\r\\ndriven and able to deal with complex issues.\", None, 'To apply for this position, please submit a\\r\\ncover letter and a resume addressing relevant qualifications and\\r\\nexperience and information on professional reference strictly to Tatevik\\r\\nHovhannisyan; Executive Assistant: fax: 374-1-546800 or e-mail:ameria@.... Tel: 374 (1) 524040; 524140. Only shortlisted\\r\\ncandidates will be notified for an interview.\\r\\nPlease clearly mention in your application letter that you learned of\\r\\nthis job opportunity through Career Center and mention the URL of its\\r\\nwebsite - www.careercenter.am, Thanks.', None, '26-Jan-04', None, None, None, 2004, 1, 0)\n",
            "(\"International Research & Exchanges Board (IREX)\\r\\nTITLE:   Full-time Community Connections Intern (paid internship)\\r\\nDURATION:  3 months\\r\\nLOCATION:  IREX Armenia Main Office; Yerevan, Armenia \\r\\nDESCRIPTION:   IREX currently seeks to fill the position of a paid\\r\\nIntern for the Community Connections (CC) Program. The position is based\\r\\nin the Yerevan office however applicants must be willing to travel\\r\\nthroughout Armenia as necessary.  This position reports directly to the\\r\\nCC Program Manager.\\r\\nRESPONSIBILITIES:  \\r\\n- Presenting the CC program to interested parties; \\r\\n- Assisting in planning and scheduling of programmatic meetings and\\r\\nevents (this includes coordinating logistics for CC staff, visitors and\\r\\nparticipants);\\r\\n- Assisting the Program Staff;\\r\\n- Translation/Interpretation from Armenian to English and vice versa;\\r\\n- Helping create, maintain and update the CC filing system and\\r\\ndatabases;\\r\\n- Completing general administrative tasks for the CC program within the\\r\\noffice;\\r\\n- Other duties as assigned/ needed.\\r\\nREQUIRED QUALIFICATIONS:  \\r\\n- Bachelor's Degree; Master's is preferred;\\r\\n- Excellent skills in spoken and written English and Armenian languages;\\r\\n- Past English to Armenian translation and Armenian to English\\r\\ntranslation experience;\\r\\n- Good communication and public speaking skills;\\r\\n- Ability to work independently and as part of a team.\\r\\nREMUNERATION:  Commensurate with experience.\\r\\nAPPLICATION PROCEDURES:   Please submit a cover letter and resume to:\\r\\nIREX Yerevan office, Attn: Community Connections Program; 50 Khanjian\\r\\nStr, Tekeyan Center, 2nd floor, Yerevan 375010, Armenia. E-mail:cc@.... \\r\\nPlease clearly mention in your application letter that you learned of\\r\\nthis opportunity through Career Center and mention the URL of its\\r\\nwebsite - www.careercenter.am, Thanks.\\r\\nAPPLICATION DEADLINE:   12 January 2004\\r\\nABOUT COMPANY:   The International Research & Exchanges Board (IREX) is\\r\\na US-Based private, non-profit organization. The IREX Armenia Yerevan\\r\\noffice was established in 1992 and is a place in Armenia where\\r\\ninterested individuals can obtain up-to-date information on study,\\r\\nresearch, and professional internship opportunities in the Unites\\r\\nStates.\\r\\nIREX Yerevan collaborates with national government branches, local and\\r\\ninternational NGOs and institutions of higher education in the promotion\\r\\nof IREX- administered research and professional programs. The goal of\\r\\nthese programs is to make American academic and professional experiences\\r\\navailable to qualified individuals.\\r\\n----------------------------------\\r\\nTo place a free posting for job or other career related opportunities in\\r\\nyour organization at careercenter.am website, e-mail us atmailbox@...\", '7-Jan-04', 'Full-time Community Connections Intern (paid internship)', 'International Research & Exchanges Board (IREX)', None, None, None, None, None, '3 months', 'IREX Armenia Main Office; Yerevan, Armenia \\r\\nDESCRIPTION:   IREX currently seeks to fill the position of a paid\\r\\nIntern for the Community Connections (CC) Program. The position is based\\r\\nin the Yerevan office however applicants must be willing to travel\\r\\nthroughout Armenia as necessary.  This position reports directly to the\\r\\nCC Program Manager.\\r\\nRESPONSIBILITIES:  \\r\\n- Presenting the CC program to interested parties; \\r\\n- Assisting in planning and scheduling of programmatic meetings and\\r\\nevents (this includes coordinating logistics for CC staff, visitors and\\r\\nparticipants);\\r\\n- Assisting the Program Staff;\\r\\n- Translation/Interpretation from Armenian to English and vice versa;\\r\\n- Helping create, maintain and update the CC filing system and\\r\\ndatabases;\\r\\n- Completing general administrative tasks for the CC program within the\\r\\noffice;\\r\\n- Other duties as assigned/ needed.', None, None, \"- Bachelor's Degree; Master's is preferred;\\r\\n- Excellent skills in spoken and written English and Armenian languages;\\r\\n- Past English to Armenian translation and Armenian to English\\r\\ntranslation experience;\\r\\n- Good communication and public speaking skills;\\r\\n- Ability to work independently and as part of a team.\\r\\nREMUNERATION:  Commensurate with experience.\", None, 'Please submit a cover letter and resume to:\\r\\nIREX Yerevan office, Attn: Community Connections Program; 50 Khanjian\\r\\nStr, Tekeyan Center, 2nd floor, Yerevan 375010, Armenia. E-mail:cc@.... \\r\\nPlease clearly mention in your application letter that you learned of\\r\\nthis opportunity through Career Center and mention the URL of its\\r\\nwebsite - www.careercenter.am, Thanks.', None, '12-Jan-04', None, 'The International Research & Exchanges Board (IREX) is\\r\\na US-Based private, non-profit organization. The IREX Armenia Yerevan\\r\\noffice was established in 1992 and is a place in Armenia where\\r\\ninterested individuals can obtain up-to-date information on study,\\r\\nresearch, and professional internship opportunities in the Unites\\r\\nStates.\\r\\nIREX Yerevan collaborates with national government branches, local and\\r\\ninternational NGOs and institutions of higher education in the promotion\\r\\nof IREX- administered research and professional programs. The goal of\\r\\nthese programs is to make American academic and professional experiences\\r\\navailable to qualified individuals.', None, 2004, 1, 0)\n",
            "('Caucasus Environmental NGO Network (CENN)\\r\\nJOB TITLE:  Country Coordinator\\r\\nPOSITION DURATION:   Renewable annual contract\\r\\nPOSITION LOCATION: Yerevan, Armenia\\r\\nJOB DESCRIPTION:   Public outreach and strengthening of a growing\\r\\nnetwork of environmental NGOs, businesses, international organizations\\r\\nand public agencies. Will serve as primary contact between CENN and\\r\\npublic. This is a full-time position.\\r\\nJOB RESPONSIBILITIES:  \\r\\n- Working with the Country Director to provide environmental information\\r\\nto the general public via regular electronic communications and serving\\r\\nas the primary local contact to Armenian NGOs and businesses and the\\r\\nArmenian offices of international organizations and agencies;\\r\\n- Helping to organize and prepare CENN seminars/ workshops;\\r\\n- Participating in defining the strategy and policy of CENN in Armenia,\\r\\nthe Caucasus region and abroad.\\r\\nREQUIRED QUALIFICATIONS:  \\r\\n- Degree in environmentally related field, or 5 years relevant\\r\\nexperience;\\r\\n- Oral and written fluency in Armenian, Russian and English;\\r\\n- Knowledge/ experience of working with environmental issues specific to\\r\\nArmenia is a plus.\\r\\nREMUNERATION:  Salary commensurate with experience. \\r\\nAPPLICATION PROCEDURES:   Please send resume or CV toursula.kazarian@.... Electronic submissions only, please.\\r\\nPlease clearly mention in your application letter that you learned of\\r\\nthis job opportunity through Career Center and mention the URL of its\\r\\nwebsite - www.careercenter.am, Thanks.\\r\\nAPPLICATION DEADLINE:   20 January 2004\\r\\nSTART DATE:  February 2004\\r\\nABOUT COMPANY:  The Caucasus Environmental NGO Network is a\\r\\nnon-governmental, non-profit organization established in 1998. Since\\r\\nestablishment, CENN through its various projects has acted as a\\r\\nvoluntary effort to foster regional cooperation by means of improved\\r\\ncommunication among environmental organizations of Armenia, Azerbaijan\\r\\nand Georgia (and partly Russia and Turkey). CENN is an open,\\r\\nhorizontally integrated structure aimed at supporting positive,\\r\\nproductive communication and cooperation on environmental protection\\r\\nprojects and issues. \\r\\n----------------------------------\\r\\nTo place a free posting for job or other career related opportunities in\\r\\nyour organization at careercenter.am website, e-mail us atmailbox@...', '7-Jan-04', 'Country Coordinator', 'Caucasus Environmental NGO Network (CENN)', None, None, None, None, None, 'Renewable annual contract\\r\\nPOSITION', 'Yerevan, Armenia', 'Public outreach and strengthening of a growing\\r\\nnetwork of environmental NGOs, businesses, international organizations\\r\\nand public agencies. Will serve as primary contact between CENN and\\r\\npublic. This is a full-time position.', '- Working with the Country Director to provide environmental information\\r\\nto the general public via regular electronic communications and serving\\r\\nas the primary local contact to Armenian NGOs and businesses and the\\r\\nArmenian offices of international organizations and agencies;\\r\\n- Helping to organize and prepare CENN seminars/ workshops;\\r\\n- Participating in defining the strategy and policy of CENN in Armenia,\\r\\nthe Caucasus region and abroad.', '- Degree in environmentally related field, or 5 years relevant\\r\\nexperience;\\r\\n- Oral and written fluency in Armenian, Russian and English;\\r\\n- Knowledge/ experience of working with environmental issues specific to\\r\\nArmenia is a plus.\\r\\nREMUNERATION:  Salary commensurate with experience.', None, 'Please send resume or CV toursula.kazarian@.... Electronic submissions only, please.\\r\\nPlease clearly mention in your application letter that you learned of\\r\\nthis job opportunity through Career Center and mention the URL of its\\r\\nwebsite - www.careercenter.am, Thanks.', None, '20 January 2004\\r\\nSTART DATE:  February 2004', None, 'The Caucasus Environmental NGO Network is a\\r\\nnon-governmental, non-profit organization established in 1998. Since\\r\\nestablishment, CENN through its various projects has acted as a\\r\\nvoluntary effort to foster regional cooperation by means of improved\\r\\ncommunication among environmental organizations of Armenia, Azerbaijan\\r\\nand Georgia (and partly Russia and Turkey). CENN is an open,\\r\\nhorizontally integrated structure aimed at supporting positive,\\r\\nproductive communication and cooperation on environmental protection\\r\\nprojects and issues.', None, 2004, 1, 0)\n",
            "(\"Manoff Group\\r\\nJOB TITLE:  BCC Specialist\\r\\nPOSITION LOCATION: Manila, Philippines\\r\\nJOB DESCRIPTION:  The LEAD (Local Enhancement and Development for\\r\\nHealth) BCC Specialist will apply state-of-the-art approaches in working\\r\\nwith LGUs (Local Government Units) and NGOs to help them to identify and\\r\\naddress provider-caused barriers to service provision as well as to\\r\\nidentify and address supports for good service delivery by developing\\r\\ntools that may be adapted to each LGU's needs. S/he will work with LEAD\\r\\nstaff across all components to support quality service delivery and will\\r\\nalso monitor implementation of improved service delivery in LGUs, and\\r\\nwill provide additional assistance to LGUs and NGOs, as needed. S/he\\r\\nwill collect all relevant published and grey literature documents,\\r\\nidentify gaps in knowledge, and work with NGOs and consultants to fill\\r\\nin the gaps. S/he will establish training for NGOs and LGU\\r\\nadministration staff pursuing service enhancement and provider behavior\\r\\nchange and will oversee the training. S/he will serve as the Project's\\r\\nprimary liaison to TSAP and other projects and organizations working in\\r\\nbehavior change.\\r\\nJOB RESPONSIBILITIES:  \\r\\n- Identify gaps in knowledge and overseeing information collection to\\r\\nfill them;\\r\\n- Consolidate partnerships with center of excellence of technical\\r\\nsupport, working with local NGOs/COs, LCEs, and LGUs;\\r\\n- Work with LEAD team to develop assessment tools for LGUs to identify\\r\\nbarriers and supports to quality service provision;\\r\\n- Assist LGUs and NGOs to design and implement multifaceted (if\\r\\nnecessary), systematic interventions, based on assessment results, to\\r\\nenhance quality service provision, especially through provider behavior\\r\\nchange. For example, ensure that not only providers, but their\\r\\nsupervisors are trained and that monitoring and supervisory systems\\r\\npromote provider change, quality services, and sustainability of change;\\r\\n- Assist other LEAD specialists and units to enhance the quality of\\r\\nservices, especially through BCC and provider behavior change, and\\r\\nassure that programs serve community needs;\\r\\n- Oversee and, when practical, co-facilitate behavior change training\\r\\nactivities and proposal development and coordinate these activities, as\\r\\nneeded, with other project components and counterpart agencies;\\r\\n- Participate in developing programs to address common barriers (e.g.,\\r\\nstrengthen service providers' interpersonal communication skills through\\r\\non-the-job training and use of innovative training approaches based on\\r\\nTSAP-FP and other projects' approaches);\\r\\n- Provide training to local groups in developing programs in community\\r\\nmobilization and advocacy to participate in health planning process; \\r\\n- Develop monitoring and evaluation systems for client-centered quality\\r\\ncare/ provider behavior change;\\r\\n- Reinforce inter-organization collaboration and coordination of BCC\\r\\ninterventions to improve the overall quality of interventions;\\r\\n- Serve as primary LEAD liaison with BCC agencies, projects, and\\r\\nconsultants.\\r\\nREQUIRED QUALIFICATIONS:  \\r\\n- Advanced degree in public health, social science, or communication or\\r\\nrelated experience;\\r\\n- Familiarity with Behavior-centered Programming SM preferred;\\r\\n- At least five years experience in the design, implementation, and\\r\\nmonitoring/evaluation of behavior change programs in the developing\\r\\nworld, preferably including Philippines;\\r\\n- Experience with behavior change in reproductive health and/or family\\r\\nplanning programs;\\r\\n- Excellent communication, coordination, and facilitation skills;\\r\\n- Experience with PC-based software, including word processing and basic\\r\\nspreadsheet analysis;\\r\\n- Knowledge of a language of the Philippines, or willingness to learn;\\r\\n- High level of written and spoken English fluency.\\r\\nAPPLICATION PROCEDURES:  Please send cover letter and resume to Amy\\r\\nPearson at: apearson@.... \\r\\nPlease clearly mention in your application letter that you learned of\\r\\nthis job opportunity through Career Center and mention the URL of its\\r\\nwebsite - www.careercenter.am, Thanks.\\r\\nAPPLICATION DEADLINE:   23 January 2004\\r\\nSTART DATE:  Immediate\\r\\n----------------------------------\\r\\nTo place a free posting for job or other career related opportunities in\\r\\nyour organization at careercenter.am website, e-mail us atmailbox@...\", '7-Jan-04', 'BCC Specialist', 'Manoff Group', None, None, None, None, None, None, 'Manila, Philippines', \"The LEAD (Local Enhancement and Development for\\r\\nHealth) BCC Specialist will apply state-of-the-art approaches in working\\r\\nwith LGUs (Local Government Units) and NGOs to help them to identify and\\r\\naddress provider-caused barriers to service provision as well as to\\r\\nidentify and address supports for good service delivery by developing\\r\\ntools that may be adapted to each LGU's needs. S/he will work with LEAD\\r\\nstaff across all components to support quality service delivery and will\\r\\nalso monitor implementation of improved service delivery in LGUs, and\\r\\nwill provide additional assistance to LGUs and NGOs, as needed. S/he\\r\\nwill collect all relevant published and grey literature documents,\\r\\nidentify gaps in knowledge, and work with NGOs and consultants to fill\\r\\nin the gaps. S/he will establish training for NGOs and LGU\\r\\nadministration staff pursuing service enhancement and provider behavior\\r\\nchange and will oversee the training. S/he will serve as the Project's\\r\\nprimary liaison to TSAP and other projects and organizations working in\\r\\nbehavior change.\", \"- Identify gaps in knowledge and overseeing information collection to\\r\\nfill them;\\r\\n- Consolidate partnerships with center of excellence of technical\\r\\nsupport, working with local NGOs/COs, LCEs, and LGUs;\\r\\n- Work with LEAD team to develop assessment tools for LGUs to identify\\r\\nbarriers and supports to quality service provision;\\r\\n- Assist LGUs and NGOs to design and implement multifaceted (if\\r\\nnecessary), systematic interventions, based on assessment results, to\\r\\nenhance quality service provision, especially through provider behavior\\r\\nchange. For example, ensure that not only providers, but their\\r\\nsupervisors are trained and that monitoring and supervisory systems\\r\\npromote provider change, quality services, and sustainability of change;\\r\\n- Assist other LEAD specialists and units to enhance the quality of\\r\\nservices, especially through BCC and provider behavior change, and\\r\\nassure that programs serve community needs;\\r\\n- Oversee and, when practical, co-facilitate behavior change training\\r\\nactivities and proposal development and coordinate these activities, as\\r\\nneeded, with other project components and counterpart agencies;\\r\\n- Participate in developing programs to address common barriers (e.g.,\\r\\nstrengthen service providers' interpersonal communication skills through\\r\\non-the-job training and use of innovative training approaches based on\\r\\nTSAP-FP and other projects' approaches);\\r\\n- Provide training to local groups in developing programs in community\\r\\nmobilization and advocacy to participate in health planning process; \\r\\n- Develop monitoring and evaluation systems for client-centered quality\\r\\ncare/ provider behavior change;\\r\\n- Reinforce inter-organization collaboration and coordination of BCC\\r\\ninterventions to improve the overall quality of interventions;\\r\\n- Serve as primary LEAD liaison with BCC agencies, projects, and\\r\\nconsultants.\", '- Advanced degree in public health, social science, or communication or\\r\\nrelated experience;\\r\\n- Familiarity with Behavior-centered Programming SM preferred;\\r\\n- At least five years experience in the design, implementation, and\\r\\nmonitoring/evaluation of behavior change programs in the developing\\r\\nworld, preferably including Philippines;\\r\\n- Experience with behavior change in reproductive health and/or family\\r\\nplanning programs;\\r\\n- Excellent communication, coordination, and facilitation skills;\\r\\n- Experience with PC-based software, including word processing and basic\\r\\nspreadsheet analysis;\\r\\n- Knowledge of a language of the Philippines, or willingness to learn;\\r\\n- High level of written and spoken English fluency.', None, 'Please send cover letter and resume to Amy\\r\\nPearson at: apearson@.... \\r\\nPlease clearly mention in your application letter that you learned of\\r\\nthis job opportunity through Career Center and mention the URL of its\\r\\nwebsite - www.careercenter.am, Thanks.', None, '23 January 2004\\r\\nSTART DATE:  Immediate', None, None, None, 2004, 1, 0)\n",
            "('Yerevan Brandy Company\\r\\nJOB TITLE:  Software Developer\\r\\nPOSITION LOCATION: Yerevan, Armenia\\r\\nJOB RESPONSIBILITIES:  \\r\\n- Rendering technical assistance to Database Management Systems;\\r\\n- Realization of SQL servers maintenance activities: back-up and\\r\\nreplication;\\r\\n- Participation in designing of software development projects.\\r\\nREQUIRED QUALIFICATIONS:  \\r\\n- University degree; economical background is a plus;\\r\\n- Excellent knowledge of Windows 2000 Server, Networking TCP/ IP\\r\\ntechnologies, MS SQL 2000 Server, Visual Basic 6;\\r\\n- At least 2 years of experience in database software development;\\r\\n- Good knowledge of English.\\r\\nREMUNERATION:  Will be commensurate with the norms accepted in the\\r\\nCompany.\\r\\nAPPLICATION PROCEDURES:  Successful candidates should submit\\r\\n- CV; \\r\\n- 2 relevant Recommendation Letters (from previous employers);\\r\\n- Copy (-ies) of Diploma (-s) and relevant certificates (if available);\\r\\n- 1 color photo (3x4)\\r\\neither to: 2 Isakov Avenue, 375082, Yerevan or send by the following\\r\\nfax: 587 713 or e-mail to:armine.bibilyan@..., Human Resources Department,\\r\\nArmine Bibilyan.\\r\\nPlease clearly mention in your application letter that you learned of\\r\\nthis job opportunity through Career Center and mention the URL of its\\r\\nwebsite - www.careercenter.am, Thanks.\\r\\nAPPLICATION DEADLINE:  20 January 2004, 18:00\\r\\n----------------------------------\\r\\nTo place a free posting for job or other career related opportunities in\\r\\nyour organization at careercenter.am website, e-mail us atmailbox@...', '10-Jan-04', 'Software Developer', 'Yerevan Brandy Company', None, None, None, None, None, None, 'Yerevan, Armenia', None, '- Rendering technical assistance to Database Management Systems;\\r\\n- Realization of SQL servers maintenance activities: back-up and\\r\\nreplication;\\r\\n- Participation in designing of software development projects.', '- University degree; economical background is a plus;\\r\\n- Excellent knowledge of Windows 2000 Server, Networking TCP/ IP\\r\\ntechnologies, MS SQL 2000 Server, Visual Basic 6;\\r\\n- At least 2 years of experience in database software development;\\r\\n- Good knowledge of English.\\r\\nREMUNERATION:  Will be commensurate with the norms accepted in the\\r\\nCompany.', None, 'Successful candidates should submit\\r\\n- CV; \\r\\n- 2 relevant Recommendation Letters (from previous employers);\\r\\n- Copy (-ies) of Diploma (-s) and relevant certificates (if available);\\r\\n- 1 color photo (3x4)\\r\\neither to: 2 Isakov Avenue, 375082, Yerevan or send by the following\\r\\nfax: 587 713 or e-mail to:armine.bibilyan@..., Human Resources Department,\\r\\nArmine Bibilyan.\\r\\nPlease clearly mention in your application letter that you learned of\\r\\nthis job opportunity through Career Center and mention the URL of its\\r\\nwebsite - www.careercenter.am, Thanks.', None, '20 January 2004, 18:00', None, None, None, 2004, 1, 1)\n"
          ]
        }
      ]
    },
    {
      "cell_type": "code",
      "source": [
        "create_table_query = '''\n",
        "CREATE TABLE Company (\n",
        "    Id INTEGER PRIMARY KEY AUTOINCREMENT,\n",
        "    Name VARCHAR(255) UNIQUE NOT NULL,\n",
        "    About TEXT\n",
        ");\n",
        "'''\n",
        "\n",
        "c.execute(create_table_query)\n",
        "conn.commit()"
      ],
      "metadata": {
        "id": "GFQgcy9m83e_"
      },
      "execution_count": null,
      "outputs": []
    },
    {
      "cell_type": "code",
      "source": [
        "create_table_query = '''\n",
        "CREATE TABLE Location (\n",
        "    id INTEGER PRIMARY KEY AUTOINCREMENT,\n",
        "    Name text NOT NULL\n",
        ");\n",
        "'''\n",
        "\n",
        "c.execute(create_table_query)\n",
        "conn.commit()"
      ],
      "metadata": {
        "id": "xTd7nLh19Aup"
      },
      "execution_count": null,
      "outputs": []
    },
    {
      "cell_type": "code",
      "source": [
        "create_table_query = '''\n",
        "CREATE TABLE Timeline\n",
        "(\n",
        "  ID INTEGER PRIMARY KEY AUTOINCREMENT,\n",
        "  postDate varchar(50),\n",
        "  startDate text,\n",
        "  deadline text,\n",
        "  openingDate text\n",
        ");\n",
        "'''\n",
        "\n",
        "c.execute(create_table_query)\n",
        "conn.commit()"
      ],
      "metadata": {
        "id": "9DgWEXze9GaH"
      },
      "execution_count": null,
      "outputs": []
    },
    {
      "cell_type": "code",
      "source": [
        "create_table_query = '''\n",
        "CREATE TABLE Additional_Info\n",
        "(\n",
        "  ID INTEGER PRIMARY KEY AUTOINCREMENT,\n",
        "  eligibility text,\n",
        "  applicationProcedure text,\n",
        "  Notes text\n",
        ");\n",
        "'''\n",
        "\n",
        "c.execute(create_table_query)\n",
        "conn.commit()"
      ],
      "metadata": {
        "id": "w-WWF7nE9Lb_"
      },
      "execution_count": null,
      "outputs": []
    },
    {
      "cell_type": "code",
      "source": [
        "create_table_query = '''\n",
        "CREATE TABLE JobPost (\n",
        "    id INTEGER PRIMARY KEY AUTOINCREMENT,\n",
        "    companyid INT,\n",
        "    locationid INT,\n",
        "    timelineid INT,\n",
        "    Additional_infoid INT,\n",
        "    title VARCHAR(255) NOT NULL,\n",
        "    term TEXT,\n",
        "    duration TEXT,\n",
        "    jobdescription TEXT,\n",
        "    jobrequirement TEXT,\n",
        "    requiredqualification TEXT,\n",
        "    salary VARCHAR(255),\n",
        "    isit BOOLEAN,\n",
        "    isposted BOOLEAN DEFAULT 0,\n",
        "    FOREIGN KEY (Companyid) REFERENCES Company(id),\n",
        "    FOREIGN KEY (Locationid) REFERENCES Location(id),\n",
        "    FOREIGN KEY (Timelineid) REFERENCES Timeline(id),\n",
        "    FOREIGN KEY (Additional_infoid) REFERENCES Additional_info(id)\n",
        ");\n",
        "'''\n",
        "\n",
        "c.execute(create_table_query)\n",
        "conn.commit()"
      ],
      "metadata": {
        "id": "_To8IXww9XLj"
      },
      "execution_count": null,
      "outputs": []
    },
    {
      "cell_type": "code",
      "source": [
        "insert_table_query = '''\n",
        "Insert into company (Name , About)\n",
        "select j.Company as Name\n",
        ", max(aboutc) as About\n",
        "from jobposts_flat_table j\n",
        "where Company != ''\n",
        "group by j.Company\n",
        "Order by 1;\n",
        "'''\n",
        "\n",
        "c.execute(insert_table_query)\n",
        "conn.commit()"
      ],
      "metadata": {
        "id": "kAvBD9wT9dj4"
      },
      "execution_count": null,
      "outputs": []
    },
    {
      "cell_type": "code",
      "source": [
        "for row in c.execute('''\n",
        "select * from company limit 5\n",
        "'''):\n",
        "    print(row)"
      ],
      "metadata": {
        "colab": {
          "base_uri": "https://localhost:8080/"
        },
        "id": "sIwX3Drmdqla",
        "outputId": "5588f063-317b-45ea-dd94-a689da314bbc"
      },
      "execution_count": null,
      "outputs": [
        {
          "output_type": "stream",
          "name": "stdout",
          "text": [
            "(1, '\"\"Aregak\" Universal Credit Organization\" CJSC', 'For company information please visit the website:\\r\\nwww.aregak.am .')\n",
            "(2, '\"\"Armenia\" International Airport\" CJSC', None)\n",
            "(3, '\"\"Armenia\" International Airports\" CJCS', None)\n",
            "(4, '\"\"Armenia\" International Airports\" CJSC', None)\n",
            "(5, '\"4h\" LLC', '\"4h\" is software Development Company, consisting of 12\\r\\npeople, which develops a cloud based training platform as a service. The\\r\\ncompany was founded in 2011 and is working for Learnship Networks GmbH\\r\\n(located in Germany).')\n"
          ]
        }
      ]
    },
    {
      "cell_type": "code",
      "source": [
        "insert_table_query = '''\n",
        "Insert into location (Name)\n",
        "Select distinct COALESCE(Location, 'NA') as Name\n",
        "From jobposts_flat_table\n",
        "Order by 1;\n",
        "'''\n",
        "\n",
        "c.execute(insert_table_query)\n",
        "conn.commit()"
      ],
      "metadata": {
        "id": "vpir8U8W-eoX"
      },
      "execution_count": null,
      "outputs": []
    },
    {
      "cell_type": "code",
      "source": [
        "for row in c.execute('''\n",
        "select * from location limit 5\n",
        "'''):\n",
        "    print(row)"
      ],
      "metadata": {
        "colab": {
          "base_uri": "https://localhost:8080/"
        },
        "id": "2bzj58zzdvNV",
        "outputId": "dd56a25d-63e1-44f1-da98-41b60a3b2621"
      },
      "execution_count": null,
      "outputs": [
        {
          "output_type": "stream",
          "name": "stdout",
          "text": [
            "(1, '40 Marshal Bagramian Ave., Yerevan, Armenia')\n",
            "(2, '49, Tigran Metsi Ave., 6th floor')\n",
            "(3, '52 Abovyan Str., 3-rd floor, room 305, Yerevan, Armenia\\r\\nDETAIL DESCRIPTION:  Different aspects of e-commerce will be discussed\\r\\nduring the lecture.')\n",
            "(4, '52 Abovyan Str., 3-rd floor, room 305, Yerevan, Armenia\\r\\nDETAIL DESCRIPTION:  The lecture will be focused on geopolitical issues\\r\\nin the region (Armenia, Georgia, Azerbaijan, Turkey and Iran).')\n",
            "(5, 'Abkhasia, Georgia')\n"
          ]
        }
      ]
    },
    {
      "cell_type": "code",
      "source": [
        "insert_table_query = '''\n",
        "INSERT INTO timeline(postDate, startDate, deadline, openingDate )\n",
        "SELECT date as postDate,\n",
        "StartDate as startDate,\n",
        "Deadline as deadline,\n",
        "OpeningDate as openingDate\n",
        "FROM jobposts_flat_table;\n",
        "'''\n",
        "\n",
        "c.execute(insert_table_query)\n",
        "conn.commit()"
      ],
      "metadata": {
        "id": "s3kLy1AWBnma"
      },
      "execution_count": null,
      "outputs": []
    },
    {
      "cell_type": "code",
      "source": [
        "for row in c.execute('''\n",
        "select * from timeline limit 5\n",
        "'''):\n",
        "    print(row)"
      ],
      "metadata": {
        "colab": {
          "base_uri": "https://localhost:8080/"
        },
        "id": "bmIIshQddyJ9",
        "outputId": "a45d627f-2610-4447-8443-20aac082ee4b"
      },
      "execution_count": null,
      "outputs": [
        {
          "output_type": "stream",
          "name": "stdout",
          "text": [
            "(1, '5-Jan-04', None, '26-Jan-04', None)\n",
            "(2, '7-Jan-04', None, '12-Jan-04', None)\n",
            "(3, '7-Jan-04', None, '20 January 2004\\r\\nSTART DATE:  February 2004', None)\n",
            "(4, '7-Jan-04', None, '23 January 2004\\r\\nSTART DATE:  Immediate', None)\n",
            "(5, '10-Jan-04', None, '20 January 2004, 18:00', None)\n"
          ]
        }
      ]
    },
    {
      "cell_type": "code",
      "source": [
        "insert_table_query = '''\n",
        "INSERT INTO Additional_Info (eligibility , applicationProcedure , Notes )\n",
        "SELECT  Eligibility as eligibility,\n",
        " \t    ApplicationP as  applicationProcedure,\n",
        "  \t    Notes as Notes\n",
        "FROM jobposts_flat_table;\n",
        "'''\n",
        "\n",
        "c.execute(insert_table_query)\n",
        "conn.commit()"
      ],
      "metadata": {
        "id": "H9YgXnO0Bv9F"
      },
      "execution_count": null,
      "outputs": []
    },
    {
      "cell_type": "code",
      "source": [
        "for row in c.execute('''\n",
        "select * from Additional_Info limit 5\n",
        "'''):\n",
        "    print(row)"
      ],
      "metadata": {
        "colab": {
          "base_uri": "https://localhost:8080/"
        },
        "id": "ssgkVcV-d3K5",
        "outputId": "04c38998-3ce8-4e43-fc5f-41806ba6014d"
      },
      "execution_count": null,
      "outputs": [
        {
          "output_type": "stream",
          "name": "stdout",
          "text": [
            "(1, None, 'To apply for this position, please submit a\\r\\ncover letter and a resume addressing relevant qualifications and\\r\\nexperience and information on professional reference strictly to Tatevik\\r\\nHovhannisyan; Executive Assistant: fax: 374-1-546800 or e-mail:ameria@.... Tel: 374 (1) 524040; 524140. Only shortlisted\\r\\ncandidates will be notified for an interview.\\r\\nPlease clearly mention in your application letter that you learned of\\r\\nthis job opportunity through Career Center and mention the URL of its\\r\\nwebsite - www.careercenter.am, Thanks.', None)\n",
            "(2, None, 'Please submit a cover letter and resume to:\\r\\nIREX Yerevan office, Attn: Community Connections Program; 50 Khanjian\\r\\nStr, Tekeyan Center, 2nd floor, Yerevan 375010, Armenia. E-mail:cc@.... \\r\\nPlease clearly mention in your application letter that you learned of\\r\\nthis opportunity through Career Center and mention the URL of its\\r\\nwebsite - www.careercenter.am, Thanks.', None)\n",
            "(3, None, 'Please send resume or CV toursula.kazarian@.... Electronic submissions only, please.\\r\\nPlease clearly mention in your application letter that you learned of\\r\\nthis job opportunity through Career Center and mention the URL of its\\r\\nwebsite - www.careercenter.am, Thanks.', None)\n",
            "(4, None, 'Please send cover letter and resume to Amy\\r\\nPearson at: apearson@.... \\r\\nPlease clearly mention in your application letter that you learned of\\r\\nthis job opportunity through Career Center and mention the URL of its\\r\\nwebsite - www.careercenter.am, Thanks.', None)\n",
            "(5, None, 'Successful candidates should submit\\r\\n- CV; \\r\\n- 2 relevant Recommendation Letters (from previous employers);\\r\\n- Copy (-ies) of Diploma (-s) and relevant certificates (if available);\\r\\n- 1 color photo (3x4)\\r\\neither to: 2 Isakov Avenue, 375082, Yerevan or send by the following\\r\\nfax: 587 713 or e-mail to:armine.bibilyan@..., Human Resources Department,\\r\\nArmine Bibilyan.\\r\\nPlease clearly mention in your application letter that you learned of\\r\\nthis job opportunity through Career Center and mention the URL of its\\r\\nwebsite - www.careercenter.am, Thanks.', None)\n"
          ]
        }
      ]
    },
    {
      "cell_type": "code",
      "source": [
        "insert_table_query = '''\n",
        "insert into JobPost (companyid, locationid, timelineid, Additional_infoid, title, term, duration, JobDescription, jobrequirement, requiredqualification,salary, isit)\n",
        "select c.id as companyid, l.id as locationid, t.id as timelineid, a.id as Additional_infoid, title\n",
        ", term, duration, JobDescription, JobRequirment as jobrequirement, RequiredQual as requiredqualification\n",
        ", Salary, case when IT='FALSE' then false else true end as isit\n",
        "from jobposts_flat_table j\n",
        "join Company c\n",
        "on j.Company = c.name\n",
        "join Location l\n",
        "on j.Location = l.name\n",
        "join Timeline t\n",
        "on j.date = t.postDate and j.startDate = t.StartDate and j.Deadline = t.deadline and j.OpeningDate = t.OpeningDate\n",
        "join Additional_Info a\n",
        "on j.eligibility = a.Eligibility and j.ApplicationP = a.applicationProcedure and j.Notes = a.Notes;\n",
        "'''\n",
        "\n",
        "c.execute(insert_table_query)\n",
        "conn.commit()"
      ],
      "metadata": {
        "id": "QwKg_BoeB8O9"
      },
      "execution_count": null,
      "outputs": []
    },
    {
      "cell_type": "code",
      "source": [
        "for row in c.execute('''\n",
        "select * from JobPost limit 5\n",
        "'''):\n",
        "    print(row)"
      ],
      "metadata": {
        "colab": {
          "base_uri": "https://localhost:8080/"
        },
        "id": "I4EFPN80d7hb",
        "outputId": "db818f89-b4ab-41bc-8d96-c4130ece7a71"
      },
      "execution_count": null,
      "outputs": [
        {
          "output_type": "stream",
          "name": "stdout",
          "text": [
            "(1, 2711, 479, 298, 298, 'Research Analyst', None, None, 'Japonica Intersectoral is seeking 4 to 6 individuals\\r\\nfor full-time positions of Research Analyst at its Yerevan Office.\\r\\nResearch Analysts go through intensive training to learn Japonica\\r\\nIntersectorals internal research and writing processes.  Ongoing\\r\\ntraining offers Research Analysts the opportunity to develop their\\r\\nresearch and analytical skills while building specific knowledge in one\\r\\nor two areas of concentration.  The current areas of concentration\\r\\ninclude economic and export development, tourism, microfinance,\\r\\nanticorruption, and the media & press.\\r\\nThe excellent training prepares analysts to assume positions of\\r\\nincreased responsibility and Japonica Intersectorals continued growth\\r\\noffers analysts the benefits of career growth opportunities with\\r\\ntop-tier compensation.', '- Produce high quality value-added Executive Briefs and Research Reviews\\r\\nto better serve JI membership base.\\r\\n- Provide Executive Briefs and Research Reviews in accordance with the\\r\\nJI Seven Step Writing Process to ensure consistency of format and\\r\\nquality of deliverable.\\r\\n- Meet the deadlines and the specified quality.\\r\\n- Develop research and analytical skills building sector-specific\\r\\nknowledge.\\r\\n- Coordinate content development and maintain report review procedure\\r\\nset by Research Manager. \\r\\n- Participate in peer review process to further develop writing skills\\r\\nand knowledge of the areas of concentration.', '- Advanced university degree in business, engineering and social\\r\\nsciences or in other relevant field\\r\\n- Ability to draft, proofread, and edit with accuracy.\\r\\n- Detail oriented\\r\\n- Excellent oral and written skills in English, Armenian, and Russian \\r\\n- Computer skills include word processing, spreadsheet, and\\r\\npresentation\\r\\n- Flexibility to handle a variety of tasks and shift priorities\\r\\nsimultaneously \\r\\n- Ability to work under pressure with continuous quality improvement\\r\\n- Experience in research and consulting is a plus \\r\\n- Experience in international organizations is a plus', 'Highly competitive', 1, 0)\n",
            "(2, 2191, 479, 299, 299, 'Procurement Specialist', 'Full-time', None, '- Developing Procurement Plans (by method of procurement, types,\\r\\nquantities, costs, delivery requirements, sources, etc);\\r\\n- Preparing and issuing bidding documents (using World Bank standard\\r\\nbidding documents  including invitation for bids, contract conditions,\\r\\nforms of security, contract forms, etc.) for the procurement of\\r\\nconsulting services, goods and works;\\r\\n- Identifying sources and preparing notification of bidding\\r\\nopportunities through advertising as appropriate;', 'Excellent organizational, communication and\\r\\nteam-work skiils are required. Ability to work under pressure.', 'Master Degree in Business Administration,\\r\\nFinance, Law', 'To be negotiated.', 1, 0)\n",
            "(3, 1667, 420, 334, 334, 'Attn.: Volunteers from the NGO Sector in Vanadzor', None, None, None, None, None, None, 1, 0)\n",
            "(4, 4459, 479, 440, 440, 'Procurement Officer', None, None, 'To negotiate, coordinate, supervise and monitor procurement processes\\r\\nfor WV Armenia National Office.', '- Prepare bidding documentation, conduct relevant shopping procedures\\r\\n- Negotiate terms and conditions of commodities procurement in line with\\r\\nstandards set by the donor and World Vision. \\r\\n- Manage all commodity movements, including transportation, secure\\r\\nwarehousing, inventories, delivery, distribution, and end use according\\r\\nto the standards set by the donor.\\r\\n- Locate and negotiate terms for adequate warehousing with security.\\r\\n- Ensure appropriate documentation and reports on commodity movements\\r\\nand problems encountered and their resolution.\\r\\n- Represent World Vision to local and regional government officials,\\r\\nshipping, trucking and airlift companies, and partner representatives in\\r\\na positive and professional manner.', '- At least 2 years experience in commodities programming and logistics\\r\\nmanagement \\r\\n- Strong verbal and written in English and Armenian language skills  \\r\\n- Knowledge of computer application programs\\r\\n- Strong communication and negotiation skills\\r\\n- Good report-writing skills\\r\\n- Good planning and organizing skills\\r\\n- Willing to travel extensively\\r\\nWe expect the successful applicant to show honesty and commitment to\\r\\nWorld Vision Christian principles.', None, 1, 0)\n",
            "(5, 4459, 479, 448, 448, 'Health Coordinator', None, None, 'Health Coordinator will be responsible for direct\\r\\ncoordination, supervision and technical monitoring of the Mobile Medical\\r\\nTeams (MMT) and Primary Health care project success and constrains.', \"The position is starting in August 2004 and is based in World Vision\\r\\nArmenia' National office, Yerevan with extensive countrywide travel. \\r\\n-\\tCoordination and obtaining of MMT related guides and protocols.\\r\\n-\\tDevelopment, pre-testing and applying of new training materials,\\r\\nstrategies and plans for increasing and promoting overall program\\r\\neffectiveness and efficiency.\\r\\n-\\tSupporting the MMT Manager in  the implementation of program\\r\\nactivities in assigned sites. \\r\\n-\\tProviding technical monitoring for respective MMT activities and\\r\\ndeveloping technical reports.\\r\\n-\\tLiaising between MMT field staff, local partners field staff, target\\r\\nbeneficiaries and WV Armenia National Office staff involved in the\\r\\nprogram implementation, management and oversight. \\r\\n-\\tCoordination and facilitation of data collection, analysis and\\r\\nmanagement.\\r\\n-\\tFostering working relationship with local and national health\\r\\nauthorities, NGOs, medical community, stakeholders and other\\r\\ncounterparts related to the field of Primary Health Care.\", '-\\tExperience of working in the field of public health as well as working\\r\\nwith international organizations, government officials, NGOs and medical\\r\\ncommunity. \\r\\n-\\tMedical qualification (MD) from recognized university \\r\\n-\\tPostgraduate training in Public Health or Public Administration is a\\r\\nplus. \\r\\n-\\tCompetency in data collection and analysis using qualitative and\\r\\nquantitative research approaches combined with excellent report writing\\r\\nskills.\\r\\n-\\tExperience in utilizing spreadsheets, database programs (SPSS,\\r\\nEpiInfo, etc.), and word processing systems. \\r\\n-\\tSuperb verbal and writing skills in English and Armenian. \\r\\n-\\tAbility and willingness to travel up to 60% of working time. \\r\\n-\\tFlexibility with working hours when necessary. \\r\\n-\\tExcellent interpersonal and communication skills \\r\\n-\\tAbility to work both independently and as a part of a team\\r\\nWe expect the successful applicant to show honesty and commitment to\\r\\nWorld Vision Christian principles.', None, 1, 0)\n"
          ]
        }
      ]
    },
    {
      "cell_type": "code",
      "source": [
        "for row in c.execute('''\n",
        "select count(*) from JobPost limit 5\n",
        "'''):\n",
        "    print(row)"
      ],
      "metadata": {
        "id": "-yS30YHs98Q8",
        "outputId": "b27e16fc-9eb6-483e-c68c-e3b0104953b2",
        "colab": {
          "base_uri": "https://localhost:8080/"
        }
      },
      "execution_count": null,
      "outputs": [
        {
          "output_type": "stream",
          "name": "stdout",
          "text": [
            "(28031,)\n"
          ]
        }
      ]
    }
  ]
}